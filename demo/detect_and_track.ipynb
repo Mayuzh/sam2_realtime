{
 "cells": [
  {
   "cell_type": "code",
   "execution_count": 2,
   "id": "initial_id",
   "metadata": {
    "collapsed": true,
    "ExecuteTime": {
     "end_time": "2024-12-11T19:30:45.397327200Z",
     "start_time": "2024-12-11T19:30:45.387328700Z"
    }
   },
   "outputs": [
    {
     "ename": "ModuleNotFoundError",
     "evalue": "No module named 'detect_and_track'",
     "output_type": "error",
     "traceback": [
      "\u001B[0;31m---------------------------------------------------------------------------\u001B[0m",
      "\u001B[0;31mModuleNotFoundError\u001B[0m                       Traceback (most recent call last)",
      "Cell \u001B[0;32mIn[2], line 13\u001B[0m\n\u001B[1;32m     10\u001B[0m \u001B[38;5;28;01mimport\u001B[39;00m \u001B[38;5;21;01mnumpy\u001B[39;00m \u001B[38;5;28;01mas\u001B[39;00m \u001B[38;5;21;01mnp\u001B[39;00m\n\u001B[1;32m     11\u001B[0m \u001B[38;5;28;01mimport\u001B[39;00m \u001B[38;5;21;01mtorch\u001B[39;00m\n\u001B[0;32m---> 13\u001B[0m \u001B[38;5;28;01mfrom\u001B[39;00m \u001B[38;5;21;01mdetect_and_track\u001B[39;00m \u001B[38;5;28;01mimport\u001B[39;00m SAMTracker, YOLODetector\n\u001B[1;32m     14\u001B[0m \u001B[38;5;28;01mfrom\u001B[39;00m \u001B[38;5;21;01mvisualizer\u001B[39;00m \u001B[38;5;28;01mimport\u001B[39;00m Visualizer\n",
      "\u001B[0;31mModuleNotFoundError\u001B[0m: No module named 'detect_and_track'"
     ]
    }
   ],
   "source": [
    "import os\n",
    "import sys\n",
    "# sys.path.insert(0, '..')\n",
    "# \n",
    "# print(sys.path)\n",
    "\n",
    "import time\n",
    "import urllib\n",
    "import cv2\n",
    "import numpy as np\n",
    "import torch\n",
    "\n",
    "from detect_and_track import SAMTracker, YOLODetector\n",
    "from visualizer import Visualizer"
   ]
  },
  {
   "cell_type": "code",
   "execution_count": null,
   "outputs": [],
   "source": [
    "# Define the file path and URL\n",
    "VIDEO_STREAM = \"./TUD-Stadtmitte-raw.webm\"\n",
    "url = 'https://motchallenge.net/sequenceVideos/TUD-Stadtmitte-raw.webm'\n",
    "\n",
    "# Check if the file already exists\n",
    "if not os.path.exists(VIDEO_STREAM):\n",
    "    # If the file doesn't exist, download it\n",
    "    urllib.request.urlretrieve(url, VIDEO_STREAM)\n",
    "    print(f\"Downloading {VIDEO_STREAM}...\")\n",
    "else:\n",
    "    print(f\"File {VIDEO_STREAM} already exists, skipping download.\")"
   ],
   "metadata": {
    "collapsed": false,
    "ExecuteTime": {
     "end_time": "2024-12-11T19:14:08.275490100Z",
     "start_time": "2024-12-11T19:14:08.266496800Z"
    }
   },
   "id": "bb1780f6714552fd"
  },
  {
   "cell_type": "code",
   "execution_count": null,
   "outputs": [],
   "source": [
    "NUM_OBJECTS = 1\n",
    "YOLO_CHECKPOINT_FILEPATH = \"yolov8x-seg.pt\"\n",
    "SAM_CHECKPOINT_FILEPATH = \"../sam2/checkpoints/sam2.1_hiera_base_plus.pt\"\n",
    "SAM_CONFIG_FILEPATH = \"./configs/samurai/sam2.1_hiera_b+.yaml\"\n",
    "OUTPUT_PATH = VIDEO_STREAM + \"_segmented.mp4\"\n",
    "DEVICE = 'cuda:0'"
   ],
   "metadata": {
    "collapsed": false
   },
   "id": "26eb66ca244d0f0"
  },
  {
   "cell_type": "code",
   "execution_count": null,
   "outputs": [],
   "source": [
    "# Instantiate Object Detector\n",
    "detector = YOLODetector(ckpt_path=YOLO_CHECKPOINT_FILEPATH, \n",
    "                        conf_threshold=0.6, \n",
    "                        device=DEVICE, \n",
    "                        labels=[0]\n",
    "                        )\n",
    "\n",
    "# Instantiate Object Tracker\n",
    "tracker = SAMTracker(config_file=SAM_CONFIG_FILEPATH,\n",
    "                     ckpt_path=SAM_CHECKPOINT_FILEPATH,\n",
    "                     num_objects=NUM_OBJECTS,\n",
    "                     device=DEVICE,\n",
    "                     iou_threshold=0.7\n",
    "                     )"
   ],
   "metadata": {
    "collapsed": false
   },
   "id": "6a92db6df8620f31"
  },
  {
   "cell_type": "code",
   "execution_count": null,
   "outputs": [],
   "source": [
    "# Open video stream\n",
    "video_stream = cv2.VideoCapture(VIDEO_STREAM)\n",
    "\n",
    "video_height = int(video_stream.get(cv2.CAP_PROP_FRAME_HEIGHT))\n",
    "video_width = int(video_stream.get(cv2.CAP_PROP_FRAME_WIDTH))\n",
    "\n",
    "# For real-time visualization\n",
    "visualizer = Visualizer(video_width=256,\n",
    "                        video_height=256,\n",
    "                        num_masks=NUM_OBJECTS,\n",
    "                        save_video=True,\n",
    "                        output_notebook=True,\n",
    "                        output_path=OUTPUT_PATH\n",
    "                        )"
   ],
   "metadata": {
    "collapsed": false
   },
   "id": "d909a1eff131e1e1"
  },
  {
   "cell_type": "code",
   "execution_count": null,
   "outputs": [],
   "source": [
    "available_slots = np.inf\n",
    "\n",
    "with torch.inference_mode(), torch.autocast('cuda:0', dtype=torch.bfloat16):\n",
    "    while video_stream.isOpened():\n",
    "        start_time = time.time()\n",
    "\n",
    "        # Get next frame\n",
    "        ret, frame = video_stream.read()\n",
    "        \n",
    "        # Exit if no frames remaining\n",
    "        if not ret:\n",
    "            break\n",
    "\n",
    "        # Convert frame from BGR to RGB\n",
    "        img = cv2.cvtColor(frame, cv2.COLOR_BGR2RGB)\n",
    "        \n",
    "        # Get detections from YOLO\n",
    "        detections = detector.get_detections(img=img) if available_slots > 0 else None\n",
    "        \n",
    "        sam_out = tracker.track_frame(img=img)\n",
    "    \n",
    "        if detections is not None:\n",
    "            new_object_masks = tracker.check_for_new_objects(object_masks=detections['masks'],\n",
    "                                                             sam_masks=sam_out['pred_masks']\n",
    "                                                             )\n",
    "    \n",
    "            available_slots = tracker.num_objects - tracker.sam.curr_obj_idx\n",
    "    \n",
    "            if len(new_object_masks) > 0 and available_slots > 0:\n",
    "                sam_out = tracker.track_new_object(new_object_masks=new_object_masks,\n",
    "                                                   tracked_object_masks=sam_out['pred_masks']\n",
    "                                                   )\n",
    "    \n",
    "        tracker.update_memory_bank(prediction=sam_out)\n",
    "        \n",
    "        visualizer.add_frame(frame=frame, mask=sam_out['pred_masks'])\n",
    "\n",
    "visualizer.stop()\n",
    "video_stream.release()"
   ],
   "metadata": {
    "collapsed": false
   },
   "id": "9df2d1a1e04cfa1a"
  },
  {
   "cell_type": "code",
   "execution_count": null,
   "outputs": [],
   "source": [],
   "metadata": {
    "collapsed": false
   },
   "id": "d2d1d778a8485034"
  },
  {
   "cell_type": "code",
   "execution_count": null,
   "outputs": [],
   "source": [],
   "metadata": {
    "collapsed": false
   },
   "id": "376f6cc15884010b"
  }
 ],
 "metadata": {
  "kernelspec": {
   "display_name": "Python 3",
   "language": "python",
   "name": "python3"
  },
  "language_info": {
   "codemirror_mode": {
    "name": "ipython",
    "version": 2
   },
   "file_extension": ".py",
   "mimetype": "text/x-python",
   "name": "python",
   "nbconvert_exporter": "python",
   "pygments_lexer": "ipython2",
   "version": "2.7.6"
  }
 },
 "nbformat": 4,
 "nbformat_minor": 5
}
